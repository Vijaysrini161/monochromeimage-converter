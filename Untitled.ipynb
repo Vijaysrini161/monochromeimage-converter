{
  "nbformat": 4,
  "nbformat_minor": 0,
  "metadata": {
    "colab": {
      "provenance": [],
      "authorship_tag": "ABX9TyOouPAKiv7PryDXLymFZval",
      "include_colab_link": true
    },
    "kernelspec": {
      "name": "python3",
      "display_name": "Python 3"
    },
    "language_info": {
      "name": "python"
    }
  },
  "cells": [
    {
      "cell_type": "markdown",
      "metadata": {
        "id": "view-in-github",
        "colab_type": "text"
      },
      "source": [
        "<a href=\"https://colab.research.google.com/github/Vijaysrini161/monochromeimage-converter/blob/main/Untitled.ipynb\" target=\"_parent\"><img src=\"https://colab.research.google.com/assets/colab-badge.svg\" alt=\"Open In Colab\"/></a>"
      ]
    },
    {
      "cell_type": "code",
      "execution_count": null,
      "metadata": {
        "id": "ZMlsbQKMROJo"
      },
      "outputs": [],
      "source": [
        "import streamlit as st\n",
        "from PIL import Image, ImageFilter\n",
        "import numpy as np\n",
        "\n",
        "st.title(\"🖼️ Image Filter App\")\n",
        "\n",
        "# Upload image\n",
        "uploaded_file = st.file_uploader(\"Upload an image\", type=[\"jpg\", \"jpeg\", \"png\"])\n",
        "\n",
        "# Apply filters\n",
        "def apply_filter(image, filter_type):\n",
        "    if filter_type == \"Grayscale\":\n",
        "        return image.convert(\"L\")\n",
        "    elif filter_type == \"Sepia\":\n",
        "        img = np.array(image)\n",
        "        tr = [0.393, 0.769, 0.189]\n",
        "        tg = [0.349, 0.686, 0.168]\n",
        "        tb = [0.272, 0.534, 0.131]\n",
        "        sepia = np.dot(img[..., :3], [tr, tg, tb])\n",
        "        sepia = np.clip(sepia, 0, 255).astype(\"uint8\")\n",
        "        return Image.fromarray(sepia)\n",
        "    elif filter_type == \"Blur\":\n",
        "        return image.filter(ImageFilter.BLUR)\n",
        "    elif filter_type == \"Edge Detection\":\n",
        "        return image.filter(ImageFilter.FIND_EDGES)\n",
        "    else:\n",
        "        return image\n",
        "\n",
        "if uploaded_file:\n",
        "    image = Image.open(uploaded_file)\n",
        "    st.image(image, caption=\"Original Image\", use_column_width=True)\n",
        "\n",
        "    # Filter selection\n",
        "    filter_option = st.selectbox(\"Choose a filter:\", [\"None\", \"Grayscale\", \"Sepia\", \"Blur\", \"Edge Detection\"])\n",
        "\n",
        "    if st.button(\"Apply Filter\"):\n",
        "        filtered_image = apply_filter(image, filter_option)\n",
        "        st.image(filtered_image, caption=f\"{filter_option} Filter\", use_column_width=True)\n",
        "\n",
        "        # Save and provide download link\n",
        "        filtered_image.save(\"filtered_image.png\")\n",
        "        with open(\"filtered_image.png\", \"rb\") as file:\n",
        "            st.download_button(label=\"Download Image\", data=file, file_name=\"filtered_image.png\", mime=\"image/png\")\n"
      ]
    }
  ]
}